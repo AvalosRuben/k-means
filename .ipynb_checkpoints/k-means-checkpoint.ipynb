{
 "cells": [
  {
   "cell_type": "code",
   "execution_count": null,
   "id": "107f2971-ccfe-4f55-9d7f-05c1f1eb73ab",
   "metadata": {},
   "outputs": [],
   "source": [
    "import numpy as np\n",
    "import math\n",
    "import random\n",
    "import matplotlib.pyplot as plt\n",
    "k = 4\n",
    "np.random.seed(42)"
   ]
  },
  {
   "cell_type": "code",
   "execution_count": null,
   "id": "a81c40fd-ac3a-4d33-b9c6-f30edfd71b24",
   "metadata": {},
   "outputs": [],
   "source": [
    "m = 100 #100 puntos\n",
    "#Generar los valores aleatorios de x entre 0 y 10\n",
    "x = np.random.rand(m)* 10\n",
    "\n",
    "#slope & interception\n",
    "a = 2\n",
    "b = 3\n",
    "\n",
    "#Maximas iteraciones\n",
    "iteraciones_max = 200\n",
    "\n",
    "sigma = 3 #ruido\n",
    "\n",
    "y = a*x + b + np.random.rand(m) * sigma\n",
    "\n",
    "#graficar los datos solo para verlos\n",
    "plt.scatter(x,y, color='blue', label='Datos')\n",
    "plt.plot([0,10], [b,a*10+b], color='red', label='Recta Real')\n",
    "plt.xlabel('x')\n",
    "plt.ylabel('y')\n",
    "plt.title('Nube de puntos artificial')\n",
    "plt.legend()\n",
    "plt.show()"
   ]
  },
  {
   "cell_type": "code",
   "execution_count": null,
   "id": "c13289fd-ea7d-440e-bc73-33d21437f3c6",
   "metadata": {},
   "outputs": [],
   "source": [
    "#INICIALIZACIÓN DE CENTROIDES\n",
    "i=1\n",
    "centroides = []#Lista de centroides\n",
    "while i <= k:\n",
    "    value = random.randint(0,len(x)-1) #1 punto al azar de los 100 que tenemos\n",
    "    centroides.append([x[value],y[value]])#agregar el punto al diccionario\n",
    "    i += 1\n",
    "\n",
    "#Lógica para no repetir centroides\n",
    "\n",
    "#print centroides\n",
    "for centroide in centroides:\n",
    "    print(centroide[0], centroide[1])\n"
   ]
  },
  {
   "cell_type": "code",
   "execution_count": null,
   "id": "bc637d5e-6794-474c-bea8-8cb003feb70e",
   "metadata": {},
   "outputs": [],
   "source": [
    "def Calcular_distancia(x_punto,y_punto, centroides):\n",
    "    distancias = []\n",
    "    i = 0\n",
    "    while i < k:\n",
    "        distancia = (x_punto - centroides[i][0])**2 + (y_punto - centroides[i][1])**2\n",
    "        distancia = math.sqrt(distancia)\n",
    "        distancias.append(distancia)\n",
    "        i += 1\n",
    "    \n",
    "    \n",
    "    \n",
    "    minima = min(distancias)\n",
    "    cluster_escogido = distancias.index(minima) \n",
    "    return cluster_escogido"
   ]
  },
  {
   "cell_type": "code",
   "execution_count": null,
   "id": "0affd9e9-c5c9-4e62-8840-d0ca028408d5",
   "metadata": {},
   "outputs": [],
   "source": [
    "#Crear lista de clusters\n",
    "Clusters = []\n",
    "i=0\n",
    "while i < k:\n",
    "    cluster = []\n",
    "    Clusters.append(cluster)\n",
    "    i += 1\n",
    "#Añadir puntos a clusters\n",
    "i = 0\n",
    "\n",
    "while i < 100:\n",
    "    punto = [x[i],y[i]]\n",
    "    cluster_escogido = Calcular_distancia(x[i],y[i], centroides)\n",
    "    Clusters[cluster_escogido].append(punto)\n",
    "    i += 1\n",
    "    "
   ]
  },
  {
   "cell_type": "code",
   "execution_count": null,
   "id": "ce378a39-6858-4155-8786-44941109ba0c",
   "metadata": {},
   "outputs": [],
   "source": [
    "#Recalcular centroides\n",
    "for centroide in centroides:\n",
    "    print(centroide[0], centroide[1])\n",
    "i = 0\n",
    "suma_x = 0\n",
    "suma_y = 0\n",
    "while i < k:\n",
    "    j = 0\n",
    "    while j < len(Clusters[i]):\n",
    "        suma_x += Clusters[i][j][0]\n",
    "        suma_y += Clusters[i][j][1]\n",
    "        j+=1\n",
    "    centroides[i][0] = suma_x/(len(x))\n",
    "    centroides[i][1] = suma_y/(len(x))\n",
    "    i+=1\n",
    "\n",
    "\n",
    "for centroide in centroides:\n",
    "    print(centroide[0], centroide[1])\n"
   ]
  },
  {
   "cell_type": "code",
   "execution_count": null,
   "id": "52341da7-10c9-493f-9e9f-c5b7de07dae3",
   "metadata": {},
   "outputs": [],
   "source": []
  },
  {
   "cell_type": "code",
   "execution_count": null,
   "id": "b4d71eb0-39ca-4dde-a263-a7b0270ad52e",
   "metadata": {},
   "outputs": [],
   "source": []
  }
 ],
 "metadata": {
  "kernelspec": {
   "display_name": "Python 3 (ipykernel)",
   "language": "python",
   "name": "python3"
  },
  "language_info": {
   "codemirror_mode": {
    "name": "ipython",
    "version": 3
   },
   "file_extension": ".py",
   "mimetype": "text/x-python",
   "name": "python",
   "nbconvert_exporter": "python",
   "pygments_lexer": "ipython3",
   "version": "3.13.7"
  }
 },
 "nbformat": 4,
 "nbformat_minor": 5
}
